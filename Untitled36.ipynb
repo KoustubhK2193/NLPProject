{
  "cells": [
    {
      "cell_type": "code",
      "execution_count": null,
      "metadata": {
        "colab": {
          "base_uri": "https://localhost:8080/"
        },
        "id": "0f8C3PjdMjjN",
        "outputId": "da1dfac9-33dd-40c8-d6f5-0a47178bdfed"
      },
      "outputs": [
        {
          "name": "stdout",
          "output_type": "stream",
          "text": [
            "trying to load 'marathi-sentiment-md' model...\n",
            "model loaded!\n",
            " sentiment models: \n",
            "\t marathi-sentiment-md :  l3cube-pune/marathi-sentiment-md\n",
            "\t marathi-sentiment-tweets :  l3cube-pune/marathi-sentiment-tweets\n",
            "\t marathi-sentiment-movie-reviews :  l3cube-pune/marathi-sentiment-movie-reviews\n",
            "\t marathi-sentiment-political-tweets :  l3cube-pune/marathi-sentiment-political-tweets\n",
            "\t marathi-sentiment-subtitles :  l3cube-pune/marathi-sentiment-subtitles\n",
            "\t MarathiSentiment :  l3cube-pune/MarathiSentiment\n",
            "\n",
            " hate models: \n",
            "\t mahahate-bert :  l3cube-pune/mahahate-bert\n",
            "\t mahahate-multi-roberta :  l3cube-pune/mahahate-multi-roberta\n",
            "\n",
            " tagger models: \n",
            "\t marathi-ner :  l3cube-pune/marathi-ner\n",
            "\n",
            " mask_fill models: \n",
            "\t marathi-bert-v2 :  l3cube-pune/marathi-bert-v2\n",
            "\t marathi-roberta :  l3cube-pune/marathi-roberta\n",
            "\t marathi-albert :  l3cube-pune/marathi-albert\n",
            "\n",
            " similarity models: \n",
            "\t marathi-sentence-similarity-sbert :  l3cube-pune/marathi-sentence-similarity-sbert\n",
            "\t marathi-sentence-bert-nli :  l3cube-pune/marathi-sentence-bert-nli\n",
            "\n",
            " autocomplete models: \n",
            "\t marathi-gpt :  l3cube-pune/marathi-gpt\n",
            "None\n",
            "      label     score\n",
            "0  Positive  0.997185\n",
            "      label     score\n",
            "0  Negative  0.994199\n",
            "     label     score\n",
            "0  Neutral  0.994731\n"
          ]
        }
      ],
      "source": [
        "from mahaNLP.model_repo import SentimentModel\n",
        "\n",
        "analyzer = SentimentModel()\n",
        "print(analyzer.list_models())\n",
        "text1 = 'दिवाळीच्या सणादरम्यान सगळे आनंदी असतात.'\n",
        "text2 = 'मी तुझा तिरस्कार करते.'  # English Translation:  'I hate you.'\n",
        "text3 = 'मी कॉलेजला जात आहे.'  # English Translation: 'I am going to college.'\n",
        "print(analyzer.get_polarity_score(text1))\n",
        "print(analyzer.get_polarity_score(text2))\n",
        "print(analyzer.get_polarity_score(text3))"
      ]
    },
    {
      "cell_type": "code",
      "execution_count": 1,
      "metadata": {
        "colab": {
          "base_uri": "https://localhost:8080/"
        },
        "id": "3e064Et7Mp0b",
        "outputId": "73fa511e-e2f8-4804-a8d2-3dc10d5cef8b"
      },
      "outputs": [],
      "source": [
        "pip install mahaNLP"
      ]
    },
    {
      "cell_type": "code",
      "execution_count": null,
      "metadata": {
        "id": "19dLyADaM3HD"
      },
      "outputs": [],
      "source": []
    }
  ],
  "metadata": {
    "colab": {
      "provenance": []
    },
    "kernelspec": {
      "display_name": "Python 3",
      "name": "python3"
    },
    "language_info": {
      "codemirror_mode": {
        "name": "ipython",
        "version": 3
      },
      "file_extension": ".py",
      "mimetype": "text/x-python",
      "name": "python",
      "nbconvert_exporter": "python",
      "pygments_lexer": "ipython3",
      "version": "3.12.1"
    }
  },
  "nbformat": 4,
  "nbformat_minor": 0
}
